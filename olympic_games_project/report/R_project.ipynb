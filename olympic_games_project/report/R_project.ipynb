{
  "nbformat": 4,
  "nbformat_minor": 0,
  "metadata": {
    "colab": {
      "provenance": [],
      "collapsed_sections": [
        "0D-923t_KPqC",
        "nNzjlPm9IRO7",
        "qBfT7BoAMu15"
      ],
      "authorship_tag": "ABX9TyOILIOf3YX0Q7FLm6tSoOu1",
      "include_colab_link": true
    },
    "kernelspec": {
      "name": "python3",
      "display_name": "Python 3"
    },
    "language_info": {
      "name": "python"
    }
  },
  "cells": [
    {
      "cell_type": "markdown",
      "metadata": {
        "id": "view-in-github",
        "colab_type": "text"
      },
      "source": [
        "<a href=\"https://colab.research.google.com/github/MaryM12/Statistics_and_R_IB/blob/olymp_games_project/olympic_games_project/report/R_project.ipynb\" target=\"_parent\"><img src=\"https://colab.research.google.com/assets/colab-badge.svg\" alt=\"Open In Colab\"/></a>"
      ]
    },
    {
      "cell_type": "code",
      "source": [
        "import pandas as pd\n",
        "import numpy as np\n",
        "import glob\n",
        "import seaborn as sns\n",
        "import matplotlib.pyplot as plt  \n",
        "from scipy.stats import mannwhitneyu\n",
        "from statannot import add_stat_annotation"
      ],
      "metadata": {
        "id": "vPZzFBr4WYLa"
      },
      "execution_count": 397,
      "outputs": []
    },
    {
      "cell_type": "code",
      "source": [
        "def multi_reader(path_to_folder):\n",
        "    path = str(path_to_folder)\n",
        "    csv_files = glob.glob(path + \"/*.csv\")\n",
        "    # read each csv file, producing a list of dfs\n",
        "    dfs = (pd.read_csv(file) for file in csv_files)\n",
        "    # concatenate all dataframes\n",
        "    multi_df = pd.concat(dfs, ignore_index=True)\n",
        "    return multi_df"
      ],
      "metadata": {
        "id": "nWHF9wqLWhn1"
      },
      "execution_count": 398,
      "outputs": []
    },
    {
      "cell_type": "code",
      "source": [
        "# df = multi_reader(\"/content/athlete\")"
      ],
      "metadata": {
        "id": "EqVAqdU1ilUJ"
      },
      "execution_count": 399,
      "outputs": []
    },
    {
      "cell_type": "code",
      "source": [
        "!gdown 1jyR3muSlXMnEcSK8hx1MPVAphdMYVf_M\n",
        "df = pd.read_csv(\"/content/df.csv\")\n",
        "# an alternative way to download the processed data"
      ],
      "metadata": {
        "id": "f1g4YuVQW_n3"
      },
      "execution_count": 400,
      "outputs": []
    },
    {
      "cell_type": "code",
      "source": [
        "df"
      ],
      "metadata": {
        "colab": {
          "base_uri": "https://localhost:8080/",
          "height": 763
        },
        "id": "gPzoI8K61b3V",
        "outputId": "3d4876bb-abaf-4dc3-9d4a-e70156cdb9ef"
      },
      "execution_count": 401,
      "outputs": [
        {
          "output_type": "execute_result",
          "data": {
            "text/plain": [
              "            ID                               Name  Sex   Age  Height  Weight  \\\n",
              "0       124517                  William Van Dijck    M  23.0   185.0    65.0   \n",
              "1       124517                  William Van Dijck    M  27.0   185.0    65.0   \n",
              "2       124517                  William Van Dijck    M  31.0   185.0    65.0   \n",
              "3       124518             Daniel \"Daan\" van Dijk    M  21.0     NaN     NaN   \n",
              "4       124519          Everdina \"Edith\" van Dijk    F  35.0   176.0    66.0   \n",
              "...        ...                                ...  ...   ...     ...     ...   \n",
              "271110  124512    Paulien Ilse Maria van Deutekom    F  25.0   171.0    72.0   \n",
              "271111  124513           Juan Pierre van Deventer    M  25.0   184.0    70.0   \n",
              "271112  124514  Germaine Van Dievoet (-Dessecker)    F  20.0     NaN     NaN   \n",
              "271113  124515                  Raymond Van Dijck    M  25.0   181.0    73.0   \n",
              "271114  124516                                NaN  NaN   NaN     NaN     NaN   \n",
              "\n",
              "                Team  NOC        Games    Year  Season         City  \\\n",
              "0            Belgium  BEL  1984 Summer  1984.0  Summer  Los Angeles   \n",
              "1            Belgium  BEL  1988 Summer  1988.0  Summer        Seoul   \n",
              "2            Belgium  BEL  1992 Summer  1992.0  Summer    Barcelona   \n",
              "3        Netherlands  NED  1928 Summer  1928.0  Summer    Amsterdam   \n",
              "4        Netherlands  NED  2008 Summer  2008.0  Summer      Beijing   \n",
              "...              ...  ...          ...     ...     ...          ...   \n",
              "271110   Netherlands  NED  2006 Winter  2006.0  Winter       Torino   \n",
              "271111  South Africa  RSA  2008 Summer  2008.0  Summer      Beijing   \n",
              "271112       Belgium  BEL  1920 Summer  1920.0  Summer    Antwerpen   \n",
              "271113       Belgium  BEL  1960 Summer  1960.0  Summer         Roma   \n",
              "271114           NaN  NaN          NaN     NaN     NaN          NaN   \n",
              "\n",
              "                Sport                                        Event Medal  \n",
              "0           Athletics    Athletics Men's 3,000 metres Steeplechase   NaN  \n",
              "1           Athletics    Athletics Men's 3,000 metres Steeplechase   NaN  \n",
              "2           Athletics    Athletics Men's 3,000 metres Steeplechase   NaN  \n",
              "3             Cycling    Cycling Men's Tandem Sprint, 2,000 metres  Gold  \n",
              "4            Swimming    Swimming Women's 10 kilometres Open Water   NaN  \n",
              "...               ...                                          ...   ...  \n",
              "271110  Speed Skating  Speed Skating Women's Team Pursuit (6 laps)   NaN  \n",
              "271111      Athletics                 Athletics Men's 1,500 metres   NaN  \n",
              "271112       Swimming        Swimming Women's 100 metres Freestyle   NaN  \n",
              "271113      Athletics                   Athletics Men's Pole Vault   NaN  \n",
              "271114            NaN                                          NaN   NaN  \n",
              "\n",
              "[271115 rows x 15 columns]"
            ],
            "text/html": [
              "\n",
              "  <div id=\"df-dd0f7c69-e4b1-428a-b263-26b7b3bcd4d1\">\n",
              "    <div class=\"colab-df-container\">\n",
              "      <div>\n",
              "<style scoped>\n",
              "    .dataframe tbody tr th:only-of-type {\n",
              "        vertical-align: middle;\n",
              "    }\n",
              "\n",
              "    .dataframe tbody tr th {\n",
              "        vertical-align: top;\n",
              "    }\n",
              "\n",
              "    .dataframe thead th {\n",
              "        text-align: right;\n",
              "    }\n",
              "</style>\n",
              "<table border=\"1\" class=\"dataframe\">\n",
              "  <thead>\n",
              "    <tr style=\"text-align: right;\">\n",
              "      <th></th>\n",
              "      <th>ID</th>\n",
              "      <th>Name</th>\n",
              "      <th>Sex</th>\n",
              "      <th>Age</th>\n",
              "      <th>Height</th>\n",
              "      <th>Weight</th>\n",
              "      <th>Team</th>\n",
              "      <th>NOC</th>\n",
              "      <th>Games</th>\n",
              "      <th>Year</th>\n",
              "      <th>Season</th>\n",
              "      <th>City</th>\n",
              "      <th>Sport</th>\n",
              "      <th>Event</th>\n",
              "      <th>Medal</th>\n",
              "    </tr>\n",
              "  </thead>\n",
              "  <tbody>\n",
              "    <tr>\n",
              "      <th>0</th>\n",
              "      <td>124517</td>\n",
              "      <td>William Van Dijck</td>\n",
              "      <td>M</td>\n",
              "      <td>23.0</td>\n",
              "      <td>185.0</td>\n",
              "      <td>65.0</td>\n",
              "      <td>Belgium</td>\n",
              "      <td>BEL</td>\n",
              "      <td>1984 Summer</td>\n",
              "      <td>1984.0</td>\n",
              "      <td>Summer</td>\n",
              "      <td>Los Angeles</td>\n",
              "      <td>Athletics</td>\n",
              "      <td>Athletics Men's 3,000 metres Steeplechase</td>\n",
              "      <td>NaN</td>\n",
              "    </tr>\n",
              "    <tr>\n",
              "      <th>1</th>\n",
              "      <td>124517</td>\n",
              "      <td>William Van Dijck</td>\n",
              "      <td>M</td>\n",
              "      <td>27.0</td>\n",
              "      <td>185.0</td>\n",
              "      <td>65.0</td>\n",
              "      <td>Belgium</td>\n",
              "      <td>BEL</td>\n",
              "      <td>1988 Summer</td>\n",
              "      <td>1988.0</td>\n",
              "      <td>Summer</td>\n",
              "      <td>Seoul</td>\n",
              "      <td>Athletics</td>\n",
              "      <td>Athletics Men's 3,000 metres Steeplechase</td>\n",
              "      <td>NaN</td>\n",
              "    </tr>\n",
              "    <tr>\n",
              "      <th>2</th>\n",
              "      <td>124517</td>\n",
              "      <td>William Van Dijck</td>\n",
              "      <td>M</td>\n",
              "      <td>31.0</td>\n",
              "      <td>185.0</td>\n",
              "      <td>65.0</td>\n",
              "      <td>Belgium</td>\n",
              "      <td>BEL</td>\n",
              "      <td>1992 Summer</td>\n",
              "      <td>1992.0</td>\n",
              "      <td>Summer</td>\n",
              "      <td>Barcelona</td>\n",
              "      <td>Athletics</td>\n",
              "      <td>Athletics Men's 3,000 metres Steeplechase</td>\n",
              "      <td>NaN</td>\n",
              "    </tr>\n",
              "    <tr>\n",
              "      <th>3</th>\n",
              "      <td>124518</td>\n",
              "      <td>Daniel \"Daan\" van Dijk</td>\n",
              "      <td>M</td>\n",
              "      <td>21.0</td>\n",
              "      <td>NaN</td>\n",
              "      <td>NaN</td>\n",
              "      <td>Netherlands</td>\n",
              "      <td>NED</td>\n",
              "      <td>1928 Summer</td>\n",
              "      <td>1928.0</td>\n",
              "      <td>Summer</td>\n",
              "      <td>Amsterdam</td>\n",
              "      <td>Cycling</td>\n",
              "      <td>Cycling Men's Tandem Sprint, 2,000 metres</td>\n",
              "      <td>Gold</td>\n",
              "    </tr>\n",
              "    <tr>\n",
              "      <th>4</th>\n",
              "      <td>124519</td>\n",
              "      <td>Everdina \"Edith\" van Dijk</td>\n",
              "      <td>F</td>\n",
              "      <td>35.0</td>\n",
              "      <td>176.0</td>\n",
              "      <td>66.0</td>\n",
              "      <td>Netherlands</td>\n",
              "      <td>NED</td>\n",
              "      <td>2008 Summer</td>\n",
              "      <td>2008.0</td>\n",
              "      <td>Summer</td>\n",
              "      <td>Beijing</td>\n",
              "      <td>Swimming</td>\n",
              "      <td>Swimming Women's 10 kilometres Open Water</td>\n",
              "      <td>NaN</td>\n",
              "    </tr>\n",
              "    <tr>\n",
              "      <th>...</th>\n",
              "      <td>...</td>\n",
              "      <td>...</td>\n",
              "      <td>...</td>\n",
              "      <td>...</td>\n",
              "      <td>...</td>\n",
              "      <td>...</td>\n",
              "      <td>...</td>\n",
              "      <td>...</td>\n",
              "      <td>...</td>\n",
              "      <td>...</td>\n",
              "      <td>...</td>\n",
              "      <td>...</td>\n",
              "      <td>...</td>\n",
              "      <td>...</td>\n",
              "      <td>...</td>\n",
              "    </tr>\n",
              "    <tr>\n",
              "      <th>271110</th>\n",
              "      <td>124512</td>\n",
              "      <td>Paulien Ilse Maria van Deutekom</td>\n",
              "      <td>F</td>\n",
              "      <td>25.0</td>\n",
              "      <td>171.0</td>\n",
              "      <td>72.0</td>\n",
              "      <td>Netherlands</td>\n",
              "      <td>NED</td>\n",
              "      <td>2006 Winter</td>\n",
              "      <td>2006.0</td>\n",
              "      <td>Winter</td>\n",
              "      <td>Torino</td>\n",
              "      <td>Speed Skating</td>\n",
              "      <td>Speed Skating Women's Team Pursuit (6 laps)</td>\n",
              "      <td>NaN</td>\n",
              "    </tr>\n",
              "    <tr>\n",
              "      <th>271111</th>\n",
              "      <td>124513</td>\n",
              "      <td>Juan Pierre van Deventer</td>\n",
              "      <td>M</td>\n",
              "      <td>25.0</td>\n",
              "      <td>184.0</td>\n",
              "      <td>70.0</td>\n",
              "      <td>South Africa</td>\n",
              "      <td>RSA</td>\n",
              "      <td>2008 Summer</td>\n",
              "      <td>2008.0</td>\n",
              "      <td>Summer</td>\n",
              "      <td>Beijing</td>\n",
              "      <td>Athletics</td>\n",
              "      <td>Athletics Men's 1,500 metres</td>\n",
              "      <td>NaN</td>\n",
              "    </tr>\n",
              "    <tr>\n",
              "      <th>271112</th>\n",
              "      <td>124514</td>\n",
              "      <td>Germaine Van Dievoet (-Dessecker)</td>\n",
              "      <td>F</td>\n",
              "      <td>20.0</td>\n",
              "      <td>NaN</td>\n",
              "      <td>NaN</td>\n",
              "      <td>Belgium</td>\n",
              "      <td>BEL</td>\n",
              "      <td>1920 Summer</td>\n",
              "      <td>1920.0</td>\n",
              "      <td>Summer</td>\n",
              "      <td>Antwerpen</td>\n",
              "      <td>Swimming</td>\n",
              "      <td>Swimming Women's 100 metres Freestyle</td>\n",
              "      <td>NaN</td>\n",
              "    </tr>\n",
              "    <tr>\n",
              "      <th>271113</th>\n",
              "      <td>124515</td>\n",
              "      <td>Raymond Van Dijck</td>\n",
              "      <td>M</td>\n",
              "      <td>25.0</td>\n",
              "      <td>181.0</td>\n",
              "      <td>73.0</td>\n",
              "      <td>Belgium</td>\n",
              "      <td>BEL</td>\n",
              "      <td>1960 Summer</td>\n",
              "      <td>1960.0</td>\n",
              "      <td>Summer</td>\n",
              "      <td>Roma</td>\n",
              "      <td>Athletics</td>\n",
              "      <td>Athletics Men's Pole Vault</td>\n",
              "      <td>NaN</td>\n",
              "    </tr>\n",
              "    <tr>\n",
              "      <th>271114</th>\n",
              "      <td>124516</td>\n",
              "      <td>NaN</td>\n",
              "      <td>NaN</td>\n",
              "      <td>NaN</td>\n",
              "      <td>NaN</td>\n",
              "      <td>NaN</td>\n",
              "      <td>NaN</td>\n",
              "      <td>NaN</td>\n",
              "      <td>NaN</td>\n",
              "      <td>NaN</td>\n",
              "      <td>NaN</td>\n",
              "      <td>NaN</td>\n",
              "      <td>NaN</td>\n",
              "      <td>NaN</td>\n",
              "      <td>NaN</td>\n",
              "    </tr>\n",
              "  </tbody>\n",
              "</table>\n",
              "<p>271115 rows × 15 columns</p>\n",
              "</div>\n",
              "      <button class=\"colab-df-convert\" onclick=\"convertToInteractive('df-dd0f7c69-e4b1-428a-b263-26b7b3bcd4d1')\"\n",
              "              title=\"Convert this dataframe to an interactive table.\"\n",
              "              style=\"display:none;\">\n",
              "        \n",
              "  <svg xmlns=\"http://www.w3.org/2000/svg\" height=\"24px\"viewBox=\"0 0 24 24\"\n",
              "       width=\"24px\">\n",
              "    <path d=\"M0 0h24v24H0V0z\" fill=\"none\"/>\n",
              "    <path d=\"M18.56 5.44l.94 2.06.94-2.06 2.06-.94-2.06-.94-.94-2.06-.94 2.06-2.06.94zm-11 1L8.5 8.5l.94-2.06 2.06-.94-2.06-.94L8.5 2.5l-.94 2.06-2.06.94zm10 10l.94 2.06.94-2.06 2.06-.94-2.06-.94-.94-2.06-.94 2.06-2.06.94z\"/><path d=\"M17.41 7.96l-1.37-1.37c-.4-.4-.92-.59-1.43-.59-.52 0-1.04.2-1.43.59L10.3 9.45l-7.72 7.72c-.78.78-.78 2.05 0 2.83L4 21.41c.39.39.9.59 1.41.59.51 0 1.02-.2 1.41-.59l7.78-7.78 2.81-2.81c.8-.78.8-2.07 0-2.86zM5.41 20L4 18.59l7.72-7.72 1.47 1.35L5.41 20z\"/>\n",
              "  </svg>\n",
              "      </button>\n",
              "      \n",
              "  <style>\n",
              "    .colab-df-container {\n",
              "      display:flex;\n",
              "      flex-wrap:wrap;\n",
              "      gap: 12px;\n",
              "    }\n",
              "\n",
              "    .colab-df-convert {\n",
              "      background-color: #E8F0FE;\n",
              "      border: none;\n",
              "      border-radius: 50%;\n",
              "      cursor: pointer;\n",
              "      display: none;\n",
              "      fill: #1967D2;\n",
              "      height: 32px;\n",
              "      padding: 0 0 0 0;\n",
              "      width: 32px;\n",
              "    }\n",
              "\n",
              "    .colab-df-convert:hover {\n",
              "      background-color: #E2EBFA;\n",
              "      box-shadow: 0px 1px 2px rgba(60, 64, 67, 0.3), 0px 1px 3px 1px rgba(60, 64, 67, 0.15);\n",
              "      fill: #174EA6;\n",
              "    }\n",
              "\n",
              "    [theme=dark] .colab-df-convert {\n",
              "      background-color: #3B4455;\n",
              "      fill: #D2E3FC;\n",
              "    }\n",
              "\n",
              "    [theme=dark] .colab-df-convert:hover {\n",
              "      background-color: #434B5C;\n",
              "      box-shadow: 0px 1px 3px 1px rgba(0, 0, 0, 0.15);\n",
              "      filter: drop-shadow(0px 1px 2px rgba(0, 0, 0, 0.3));\n",
              "      fill: #FFFFFF;\n",
              "    }\n",
              "  </style>\n",
              "\n",
              "      <script>\n",
              "        const buttonEl =\n",
              "          document.querySelector('#df-dd0f7c69-e4b1-428a-b263-26b7b3bcd4d1 button.colab-df-convert');\n",
              "        buttonEl.style.display =\n",
              "          google.colab.kernel.accessAllowed ? 'block' : 'none';\n",
              "\n",
              "        async function convertToInteractive(key) {\n",
              "          const element = document.querySelector('#df-dd0f7c69-e4b1-428a-b263-26b7b3bcd4d1');\n",
              "          const dataTable =\n",
              "            await google.colab.kernel.invokeFunction('convertToInteractive',\n",
              "                                                     [key], {});\n",
              "          if (!dataTable) return;\n",
              "\n",
              "          const docLinkHtml = 'Like what you see? Visit the ' +\n",
              "            '<a target=\"_blank\" href=https://colab.research.google.com/notebooks/data_table.ipynb>data table notebook</a>'\n",
              "            + ' to learn more about interactive tables.';\n",
              "          element.innerHTML = '';\n",
              "          dataTable['output_type'] = 'display_data';\n",
              "          await google.colab.output.renderOutput(dataTable, element);\n",
              "          const docLink = document.createElement('div');\n",
              "          docLink.innerHTML = docLinkHtml;\n",
              "          element.appendChild(docLink);\n",
              "        }\n",
              "      </script>\n",
              "    </div>\n",
              "  </div>\n",
              "  "
            ]
          },
          "metadata": {},
          "execution_count": 401
        }
      ]
    },
    {
      "cell_type": "markdown",
      "source": [
        "# 2. \n",
        "Explore the data"
      ],
      "metadata": {
        "id": "lSfAp7_02SrX"
      }
    },
    {
      "cell_type": "code",
      "source": [
        "df.info()"
      ],
      "metadata": {
        "colab": {
          "base_uri": "https://localhost:8080/"
        },
        "id": "lQ3ZQgLr06Wk",
        "outputId": "51aa8c63-7db9-4626-df28-aab24baebdec"
      },
      "execution_count": 402,
      "outputs": [
        {
          "output_type": "stream",
          "name": "stdout",
          "text": [
            "<class 'pandas.core.frame.DataFrame'>\n",
            "RangeIndex: 271115 entries, 0 to 271114\n",
            "Data columns (total 15 columns):\n",
            " #   Column  Non-Null Count   Dtype  \n",
            "---  ------  --------------   -----  \n",
            " 0   ID      271115 non-null  int64  \n",
            " 1   Name    271114 non-null  object \n",
            " 2   Sex     271113 non-null  object \n",
            " 3   Age     261639 non-null  float64\n",
            " 4   Height  210943 non-null  float64\n",
            " 5   Weight  208239 non-null  float64\n",
            " 6   Team    271112 non-null  object \n",
            " 7   NOC     271111 non-null  object \n",
            " 8   Games   271110 non-null  object \n",
            " 9   Year    271108 non-null  float64\n",
            " 10  Season  271108 non-null  object \n",
            " 11  City    271108 non-null  object \n",
            " 12  Sport   271108 non-null  object \n",
            " 13  Event   271107 non-null  object \n",
            " 14  Medal   39782 non-null   object \n",
            "dtypes: float64(4), int64(1), object(10)\n",
            "memory usage: 31.0+ MB\n"
          ]
        }
      ]
    },
    {
      "cell_type": "code",
      "source": [
        "df.describe()"
      ],
      "metadata": {
        "colab": {
          "base_uri": "https://localhost:8080/",
          "height": 300
        },
        "id": "eLAFOM7c12wm",
        "outputId": "cdd985d5-732b-46f9-e84f-053e40fda3c8"
      },
      "execution_count": 403,
      "outputs": [
        {
          "output_type": "execute_result",
          "data": {
            "text/plain": [
              "                  ID            Age         Height         Weight  \\\n",
              "count  271115.000000  261639.000000  210943.000000  208239.000000   \n",
              "mean    68248.828641      25.557669     175.339760      70.702232   \n",
              "std     39022.303374       6.407296      10.524619      14.348878   \n",
              "min         1.000000      10.000000     127.000000       7.000000   \n",
              "25%     34643.000000      21.000000     168.000000      60.000000   \n",
              "50%     68205.000000      24.000000     175.000000      70.000000   \n",
              "75%    102097.000000      28.000000     183.000000      79.000000   \n",
              "max    135571.000000     240.000000     340.000000     214.000000   \n",
              "\n",
              "                Year  \n",
              "count  271108.000000  \n",
              "mean     1978.378314  \n",
              "std        29.877579  \n",
              "min      1896.000000  \n",
              "25%      1960.000000  \n",
              "50%      1988.000000  \n",
              "75%      2002.000000  \n",
              "max      2016.000000  "
            ],
            "text/html": [
              "\n",
              "  <div id=\"df-92ceb96d-3ded-4c05-b5bd-acc52da62243\">\n",
              "    <div class=\"colab-df-container\">\n",
              "      <div>\n",
              "<style scoped>\n",
              "    .dataframe tbody tr th:only-of-type {\n",
              "        vertical-align: middle;\n",
              "    }\n",
              "\n",
              "    .dataframe tbody tr th {\n",
              "        vertical-align: top;\n",
              "    }\n",
              "\n",
              "    .dataframe thead th {\n",
              "        text-align: right;\n",
              "    }\n",
              "</style>\n",
              "<table border=\"1\" class=\"dataframe\">\n",
              "  <thead>\n",
              "    <tr style=\"text-align: right;\">\n",
              "      <th></th>\n",
              "      <th>ID</th>\n",
              "      <th>Age</th>\n",
              "      <th>Height</th>\n",
              "      <th>Weight</th>\n",
              "      <th>Year</th>\n",
              "    </tr>\n",
              "  </thead>\n",
              "  <tbody>\n",
              "    <tr>\n",
              "      <th>count</th>\n",
              "      <td>271115.000000</td>\n",
              "      <td>261639.000000</td>\n",
              "      <td>210943.000000</td>\n",
              "      <td>208239.000000</td>\n",
              "      <td>271108.000000</td>\n",
              "    </tr>\n",
              "    <tr>\n",
              "      <th>mean</th>\n",
              "      <td>68248.828641</td>\n",
              "      <td>25.557669</td>\n",
              "      <td>175.339760</td>\n",
              "      <td>70.702232</td>\n",
              "      <td>1978.378314</td>\n",
              "    </tr>\n",
              "    <tr>\n",
              "      <th>std</th>\n",
              "      <td>39022.303374</td>\n",
              "      <td>6.407296</td>\n",
              "      <td>10.524619</td>\n",
              "      <td>14.348878</td>\n",
              "      <td>29.877579</td>\n",
              "    </tr>\n",
              "    <tr>\n",
              "      <th>min</th>\n",
              "      <td>1.000000</td>\n",
              "      <td>10.000000</td>\n",
              "      <td>127.000000</td>\n",
              "      <td>7.000000</td>\n",
              "      <td>1896.000000</td>\n",
              "    </tr>\n",
              "    <tr>\n",
              "      <th>25%</th>\n",
              "      <td>34643.000000</td>\n",
              "      <td>21.000000</td>\n",
              "      <td>168.000000</td>\n",
              "      <td>60.000000</td>\n",
              "      <td>1960.000000</td>\n",
              "    </tr>\n",
              "    <tr>\n",
              "      <th>50%</th>\n",
              "      <td>68205.000000</td>\n",
              "      <td>24.000000</td>\n",
              "      <td>175.000000</td>\n",
              "      <td>70.000000</td>\n",
              "      <td>1988.000000</td>\n",
              "    </tr>\n",
              "    <tr>\n",
              "      <th>75%</th>\n",
              "      <td>102097.000000</td>\n",
              "      <td>28.000000</td>\n",
              "      <td>183.000000</td>\n",
              "      <td>79.000000</td>\n",
              "      <td>2002.000000</td>\n",
              "    </tr>\n",
              "    <tr>\n",
              "      <th>max</th>\n",
              "      <td>135571.000000</td>\n",
              "      <td>240.000000</td>\n",
              "      <td>340.000000</td>\n",
              "      <td>214.000000</td>\n",
              "      <td>2016.000000</td>\n",
              "    </tr>\n",
              "  </tbody>\n",
              "</table>\n",
              "</div>\n",
              "      <button class=\"colab-df-convert\" onclick=\"convertToInteractive('df-92ceb96d-3ded-4c05-b5bd-acc52da62243')\"\n",
              "              title=\"Convert this dataframe to an interactive table.\"\n",
              "              style=\"display:none;\">\n",
              "        \n",
              "  <svg xmlns=\"http://www.w3.org/2000/svg\" height=\"24px\"viewBox=\"0 0 24 24\"\n",
              "       width=\"24px\">\n",
              "    <path d=\"M0 0h24v24H0V0z\" fill=\"none\"/>\n",
              "    <path d=\"M18.56 5.44l.94 2.06.94-2.06 2.06-.94-2.06-.94-.94-2.06-.94 2.06-2.06.94zm-11 1L8.5 8.5l.94-2.06 2.06-.94-2.06-.94L8.5 2.5l-.94 2.06-2.06.94zm10 10l.94 2.06.94-2.06 2.06-.94-2.06-.94-.94-2.06-.94 2.06-2.06.94z\"/><path d=\"M17.41 7.96l-1.37-1.37c-.4-.4-.92-.59-1.43-.59-.52 0-1.04.2-1.43.59L10.3 9.45l-7.72 7.72c-.78.78-.78 2.05 0 2.83L4 21.41c.39.39.9.59 1.41.59.51 0 1.02-.2 1.41-.59l7.78-7.78 2.81-2.81c.8-.78.8-2.07 0-2.86zM5.41 20L4 18.59l7.72-7.72 1.47 1.35L5.41 20z\"/>\n",
              "  </svg>\n",
              "      </button>\n",
              "      \n",
              "  <style>\n",
              "    .colab-df-container {\n",
              "      display:flex;\n",
              "      flex-wrap:wrap;\n",
              "      gap: 12px;\n",
              "    }\n",
              "\n",
              "    .colab-df-convert {\n",
              "      background-color: #E8F0FE;\n",
              "      border: none;\n",
              "      border-radius: 50%;\n",
              "      cursor: pointer;\n",
              "      display: none;\n",
              "      fill: #1967D2;\n",
              "      height: 32px;\n",
              "      padding: 0 0 0 0;\n",
              "      width: 32px;\n",
              "    }\n",
              "\n",
              "    .colab-df-convert:hover {\n",
              "      background-color: #E2EBFA;\n",
              "      box-shadow: 0px 1px 2px rgba(60, 64, 67, 0.3), 0px 1px 3px 1px rgba(60, 64, 67, 0.15);\n",
              "      fill: #174EA6;\n",
              "    }\n",
              "\n",
              "    [theme=dark] .colab-df-convert {\n",
              "      background-color: #3B4455;\n",
              "      fill: #D2E3FC;\n",
              "    }\n",
              "\n",
              "    [theme=dark] .colab-df-convert:hover {\n",
              "      background-color: #434B5C;\n",
              "      box-shadow: 0px 1px 3px 1px rgba(0, 0, 0, 0.15);\n",
              "      filter: drop-shadow(0px 1px 2px rgba(0, 0, 0, 0.3));\n",
              "      fill: #FFFFFF;\n",
              "    }\n",
              "  </style>\n",
              "\n",
              "      <script>\n",
              "        const buttonEl =\n",
              "          document.querySelector('#df-92ceb96d-3ded-4c05-b5bd-acc52da62243 button.colab-df-convert');\n",
              "        buttonEl.style.display =\n",
              "          google.colab.kernel.accessAllowed ? 'block' : 'none';\n",
              "\n",
              "        async function convertToInteractive(key) {\n",
              "          const element = document.querySelector('#df-92ceb96d-3ded-4c05-b5bd-acc52da62243');\n",
              "          const dataTable =\n",
              "            await google.colab.kernel.invokeFunction('convertToInteractive',\n",
              "                                                     [key], {});\n",
              "          if (!dataTable) return;\n",
              "\n",
              "          const docLinkHtml = 'Like what you see? Visit the ' +\n",
              "            '<a target=\"_blank\" href=https://colab.research.google.com/notebooks/data_table.ipynb>data table notebook</a>'\n",
              "            + ' to learn more about interactive tables.';\n",
              "          element.innerHTML = '';\n",
              "          dataTable['output_type'] = 'display_data';\n",
              "          await google.colab.output.renderOutput(dataTable, element);\n",
              "          const docLink = document.createElement('div');\n",
              "          docLink.innerHTML = docLinkHtml;\n",
              "          element.appendChild(docLink);\n",
              "        }\n",
              "      </script>\n",
              "    </div>\n",
              "  </div>\n",
              "  "
            ]
          },
          "metadata": {},
          "execution_count": 403
        }
      ]
    },
    {
      "cell_type": "markdown",
      "source": [
        "It seems like outliers are present in the data. Basically, there're several methods to identify outliers, such as:\n",
        "- Visualization\n",
        "- Skewness\n",
        "- Interquartile Range\n",
        "- Standard Deviation\n",
        "\n",
        "Here, I will simply trim the outliers (as we have a lot of observations anyway). Other ways to treat oultliers include\n",
        "- Flooring and Capping (i.e. replacing with a lower or higher quantile)\n",
        "- Trimming\n",
        "- Replacing outliers with the mean (!with caution), median, mode, or other values\n",
        "\n",
        "(used https://medium.com/analytics-vidhya/identifying-cleaning-and-replacing-outliers-titanic-dataset-20182a062893 for more info)"
      ],
      "metadata": {
        "id": "Pvq9aLpe4bvX"
      }
    },
    {
      "cell_type": "code",
      "source": [
        "# I decided to use quantiles 0.1 and 0.9 here for a less stringent trimming and based on the web sources\n",
        "Q1 = df['Age'].quantile(0.1)\n",
        "Q3 = df['Age'].quantile(0.9)\n",
        "IQR = Q3 - Q1\n",
        "IQR\n",
        "\n",
        "whisker_width = 1.5\n",
        "lower_whisker = Q1 - (whisker_width*IQR)\n",
        "upper_whisker = Q3 + (whisker_width*IQR)\n",
        "index=df['Age'][(df['Age']>upper_whisker)|(df['Age']<lower_whisker)].index\n",
        "df.drop(index,inplace=True)"
      ],
      "metadata": {
        "id": "Sewtgn-C5bvQ"
      },
      "execution_count": 404,
      "outputs": []
    },
    {
      "cell_type": "code",
      "source": [
        "sns.boxplot(df['Age'],data=df);"
      ],
      "metadata": {
        "colab": {
          "base_uri": "https://localhost:8080/",
          "height": 340
        },
        "id": "ZAm4m-Qz7ujF",
        "outputId": "86d1325f-aea6-40c5-f8d2-86616bbde339"
      },
      "execution_count": 405,
      "outputs": [
        {
          "output_type": "stream",
          "name": "stderr",
          "text": [
            "/usr/local/lib/python3.7/dist-packages/seaborn/_decorators.py:43: FutureWarning: Pass the following variable as a keyword arg: x. From version 0.12, the only valid positional argument will be `data`, and passing other arguments without an explicit keyword will result in an error or misinterpretation.\n",
            "  FutureWarning\n"
          ]
        },
        {
          "output_type": "display_data",
          "data": {
            "text/plain": [
              "<Figure size 432x288 with 1 Axes>"
            ],
            "image/png": "[encoded data removed]"
          },
          "metadata": {}
        }
      ]
    },
    {
      "cell_type": "code",
      "source": [
        "sns.boxplot(df['Height'],data=df);"
      ],
      "metadata": {
        "colab": {
          "base_uri": "https://localhost:8080/",
          "height": 340
        },
        "id": "4sfQNzsc8wLU",
        "outputId": "f357664e-77ef-4ed4-c468-12c8948ea9b9"
      },
      "execution_count": 406,
      "outputs": [
        {
          "output_type": "stream",
          "name": "stderr",
          "text": [
            "/usr/local/lib/python3.7/dist-packages/seaborn/_decorators.py:43: FutureWarning: Pass the following variable as a keyword arg: x. From version 0.12, the only valid positional argument will be `data`, and passing other arguments without an explicit keyword will result in an error or misinterpretation.\n",
            "  FutureWarning\n"
          ]
        },
        {
          "output_type": "display_data",
          "data": {
            "text/plain": [
              "<Figure size 432x288 with 1 Axes>"
            ],
            "image/png": "[encoded data removed]"
          },
          "metadata": {}
        }
      ]
    },
    {
      "cell_type": "code",
      "source": [
        "index=df['Height'][(df['Height']>270)].index\n",
        "df.drop(index,inplace=True)"
      ],
      "metadata": {
        "id": "o4qV7gtX8wVQ"
      },
      "execution_count": 407,
      "outputs": []
    },
    {
      "cell_type": "code",
      "source": [
        "sns.boxplot(df['Weight'],data=df);  #ok"
      ],
      "metadata": {
        "colab": {
          "base_uri": "https://localhost:8080/",
          "height": 340
        },
        "id": "phfUkgR58wcs",
        "outputId": "63def24a-0fe6-4844-8e61-646701adf603"
      },
      "execution_count": 408,
      "outputs": [
        {
          "output_type": "stream",
          "name": "stderr",
          "text": [
            "/usr/local/lib/python3.7/dist-packages/seaborn/_decorators.py:43: FutureWarning: Pass the following variable as a keyword arg: x. From version 0.12, the only valid positional argument will be `data`, and passing other arguments without an explicit keyword will result in an error or misinterpretation.\n",
            "  FutureWarning\n"
          ]
        },
        {
          "output_type": "display_data",
          "data": {
            "text/plain": [
              "<Figure size 432x288 with 1 Axes>"
            ],
            "image/png": "[encoded data removed]"
          },
          "metadata": {}
        }
      ]
    },
    {
      "cell_type": "code",
      "source": [
        "index=df['Weight'][(df['Weight']<20)].index\n",
        "df.drop(index,inplace=True)"
      ],
      "metadata": {
        "id": "2BGVnYh6n5el"
      },
      "execution_count": 409,
      "outputs": []
    },
    {
      "cell_type": "code",
      "source": [
        "df[\"Sex\"].value_counts()"
      ],
      "metadata": {
        "colab": {
          "base_uri": "https://localhost:8080/"
        },
        "id": "EW0OtNHA3bAH",
        "outputId": "a250892c-65f4-4cf9-fa07-a15e6f679e1d"
      },
      "execution_count": 410,
      "outputs": [
        {
          "output_type": "execute_result",
          "data": {
            "text/plain": [
              "M    195561\n",
              "F     74414\n",
              "G         2\n",
              "Name: Sex, dtype: int64"
            ]
          },
          "metadata": {},
          "execution_count": 410
        }
      ]
    },
    {
      "cell_type": "code",
      "source": [
        "df[(df['Sex']== \"G\")]\n",
        "# Not that I'm intolerant, but ok, let's consider them males for now, based on their names\n",
        "df['Sex'].replace(\"G\",\"M\",regex=True, inplace=True)"
      ],
      "metadata": {
        "id": "y_1YmOtF-_PF"
      },
      "execution_count": 411,
      "outputs": []
    },
    {
      "cell_type": "code",
      "source": [
        "df[\"Games\"].value_counts()\n",
        "df[\"Medal\"].value_counts()"
      ],
      "metadata": {
        "colab": {
          "base_uri": "https://localhost:8080/"
        },
        "id": "68IX8jda4D7p",
        "outputId": "46e78475-3218-43a6-83d0-89d4bd9b7f01"
      },
      "execution_count": 412,
      "outputs": [
        {
          "output_type": "execute_result",
          "data": {
            "text/plain": [
              "Gold      13344\n",
              "Bronze    13266\n",
              "Silver    13071\n",
              "Name: Medal, dtype: int64"
            ]
          },
          "metadata": {},
          "execution_count": 412
        }
      ]
    },
    {
      "cell_type": "code",
      "source": [
        "df[\"Sport\"].value_counts()"
      ],
      "metadata": {
        "colab": {
          "base_uri": "https://localhost:8080/"
        },
        "id": "4nnu7I2dBeaG",
        "outputId": "e1d296f4-7b9a-40db-89ed-6c12d072d5fc"
      },
      "execution_count": 413,
      "outputs": [
        {
          "output_type": "execute_result",
          "data": {
            "text/plain": [
              "Athletics        38623\n",
              "Gymnastics       26706\n",
              "Swimming         23193\n",
              "Shooting         11292\n",
              "Cycling          10859\n",
              "                 ...  \n",
              "Jeu De Paume        11\n",
              "Basque Pelota        2\n",
              "Roque                2\n",
              "Footba               1\n",
              "Aeronautics          1\n",
              "Name: Sport, Length: 67, dtype: int64"
            ]
          },
          "metadata": {},
          "execution_count": 413
        }
      ]
    },
    {
      "cell_type": "code",
      "source": [
        "df[\"Season\"].value_counts()"
      ],
      "metadata": {
        "colab": {
          "base_uri": "https://localhost:8080/"
        },
        "id": "z6WrtpYT4T8R",
        "outputId": "6a10e369-a2fc-400f-9237-dcab6d0f67e0"
      },
      "execution_count": 414,
      "outputs": [
        {
          "output_type": "execute_result",
          "data": {
            "text/plain": [
              "Summer    221412\n",
              "Winter     48561\n",
              "Name: Season, dtype: int64"
            ]
          },
          "metadata": {},
          "execution_count": 414
        }
      ]
    },
    {
      "cell_type": "code",
      "source": [
        "df.shape\n",
        "# (269980, 15) after trimming"
      ],
      "metadata": {
        "colab": {
          "base_uri": "https://localhost:8080/"
        },
        "id": "ajTGDLLm2LWt",
        "outputId": "e099d039-4604-41ab-ba9c-3310ad5e11a8"
      },
      "execution_count": 415,
      "outputs": [
        {
          "output_type": "execute_result",
          "data": {
            "text/plain": [
              "(269979, 15)"
            ]
          },
          "metadata": {},
          "execution_count": 415
        }
      ]
    },
    {
      "cell_type": "markdown",
      "source": [
        "# 3\n",
        " Age of the yougest male and female sportsmen in 1992 (2 points)\n",
        " \n"
      ],
      "metadata": {
        "id": "6dK9LLXtCLeK"
      }
    },
    {
      "cell_type": "code",
      "source": [
        "ages = df['Age'][df['Year'] == 1992.0].values\n",
        "q3 = ages[~(np.isnan(ages))].min()\n",
        "\n",
        "print('The youngest sportsman is', q3, 'years old.')\n",
        "ages_m = df['Age'][(df['Year'] == 1992.0) & (df['Sex'] == \"M\")].values\n",
        "q3_1 = ages_m[~(np.isnan(ages_m))].min()\n",
        "print('Among males, the youngest boy is', q3_1, 'years old.')\n",
        "ages_f = df['Age'][(df['Year'] == 1992.0) & (df['Sex'] == \"F\")].values\n",
        "q3_2 = ages_f[~(np.isnan(ages_f))].min()\n",
        "print('Among females, the youngest girl is', q3_2, 'years old.')"
      ],
      "metadata": {
        "colab": {
          "base_uri": "https://localhost:8080/"
        },
        "id": "4d9W5yi62LqS",
        "outputId": "95fe9b8b-eea2-458c-8eae-cb07954949cb"
      },
      "execution_count": 416,
      "outputs": [
        {
          "output_type": "stream",
          "name": "stdout",
          "text": [
            "The youngest sportsman is 11.0 years old.\n",
            "Among males, the youngest boy is 11.0 years old.\n",
            "Among females, the youngest girl is 12.0 years old.\n"
          ]
        }
      ]
    },
    {
      "cell_type": "markdown",
      "source": [
        "# 4. \n",
        "Mean and std of Height for males in females (2 points)\n"
      ],
      "metadata": {
        "id": "MQ6ZCW2bHhpa"
      }
    },
    {
      "cell_type": "code",
      "source": [
        "q4 = df.groupby('Sex')['Height'].agg(['mean', 'std'])      "
      ],
      "metadata": {
        "id": "cpPkM2R1H6Cn"
      },
      "execution_count": 417,
      "outputs": []
    },
    {
      "cell_type": "code",
      "source": [
        "print('For males, the mean height is', round(q4.iloc[1, 0], 3))\n",
        "print('For females, the mean height is', round(q4.iloc[0, 0], 3))\n",
        "print('For males, std = ', round(q4.iloc[1, 1], 3))\n",
        "print('For females, std = ', round(q4.iloc[0, 1], 3))"
      ],
      "metadata": {
        "colab": {
          "base_uri": "https://localhost:8080/"
        },
        "id": "clV5QmBAIGUr",
        "outputId": "be57360e-e31a-46ff-bd97-797c2d558610"
      },
      "execution_count": 418,
      "outputs": [
        {
          "output_type": "stream",
          "name": "stdout",
          "text": [
            "For males, the mean height is 178.861\n",
            "For females, the mean height is 167.841\n",
            "For males, std =  9.361\n",
            "For females, std =  8.779\n"
          ]
        }
      ]
    },
    {
      "cell_type": "markdown",
      "source": [
        "# 5. \n",
        "Mean and std of Height for female tennis players (sex = F) in 2000 (2 points)\n"
      ],
      "metadata": {
        "id": "0D-923t_KPqC"
      }
    },
    {
      "cell_type": "code",
      "source": [
        "df[\"Sport\"].unique()"
      ],
      "metadata": {
        "colab": {
          "base_uri": "https://localhost:8080/"
        },
        "id": "_3dDgd0fMDOM",
        "outputId": "105f0d7e-9fc0-4f81-8e52-7b069764ff7e"
      },
      "execution_count": 419,
      "outputs": [
        {
          "output_type": "execute_result",
          "data": {
            "text/plain": [
              "array(['Athletics', 'Cycling', 'Swimming', 'Fencing', 'Speed Skating',\n",
              "       'Badminton', 'Sailing', 'Rowing', 'Volleyball', 'Boxing',\n",
              "       'Archery', 'Alpine Skiing', 'Shooting',\n",
              "       'Short Track Speed Skating', 'Hockey', 'Equestrianism', 'Baseball',\n",
              "       'Water Polo', 'Art Competitions', 'Football', 'Wrestling',\n",
              "       'Canoeing', 'Judo', 'Snowboarding', 'Modern Pentathlon',\n",
              "       'Gymnastics', 'Beach Volleyball', 'Basketball', 'Ice Hockey',\n",
              "       'Weightlifting', 'Bobsleigh', 'Softball', 'Diving', 'Tug-Of-War',\n",
              "       'Figure Skating', 'Tennis', 'Nordic Combined', 'Triathlon',\n",
              "       'Handball', 'Golf', 'Cross Country Skiing', 'Military Ski Patrol',\n",
              "       'Table Tennis', 'Freestyle Skiing', 'Ski Jumping', 'Biathlon',\n",
              "       'Rugby', 'Synchronized Swimming', 'Taekwondo',\n",
              "       'Rhythmic Gymnastics', 'Luge', 'Skeleton', 'Lacrosse',\n",
              "       'Rugby Sevens', 'Curling', 'Croquet', 'Trampolining',\n",
              "       'Basque Pelota', 'Alpinism', 'Polo', 'Motorboating', 'Cricket',\n",
              "       'Racquets', 'Jeu De Paume', nan, 'Footba', 'Roque', 'Aeronautics'],\n",
              "      dtype=object)"
            ]
          },
          "metadata": {},
          "execution_count": 419
        }
      ]
    },
    {
      "cell_type": "code",
      "source": [
        "# I'll count it for just Tennis, not Table tennis\n",
        "q5 = df['Height'][(df['Sex'] == 'F') & (df['Year'] == 2000.0) & (df[\"Sport\"] == 'Tennis')].agg(['mean', 'std'])   \n",
        "q5\n"
      ],
      "metadata": {
        "colab": {
          "base_uri": "https://localhost:8080/"
        },
        "id": "wtniOq-1JZ9i",
        "outputId": "08d7794f-8cab-4505-b133-4a5ed4b6d867"
      },
      "execution_count": 420,
      "outputs": [
        {
          "output_type": "execute_result",
          "data": {
            "text/plain": [
              "mean    171.792000\n",
              "std       6.458673\n",
              "Name: Height, dtype: float64"
            ]
          },
          "metadata": {},
          "execution_count": 420
        }
      ]
    },
    {
      "cell_type": "code",
      "source": [
        "print('Mean height = ', round(q5[0], 1))\n",
        "print('Std = ', round(q5[1], 1))"
      ],
      "metadata": {
        "colab": {
          "base_uri": "https://localhost:8080/"
        },
        "id": "B8U1pWsKMU1c",
        "outputId": "19137304-9fcf-4bbb-fdc6-8e544fbbd370"
      },
      "execution_count": 421,
      "outputs": [
        {
          "output_type": "stream",
          "name": "stdout",
          "text": [
            "Mean height =  171.8\n",
            "Std =  6.5\n"
          ]
        }
      ]
    },
    {
      "cell_type": "markdown",
      "source": [
        "# 6. \n",
        "Which kind of sport did the heaviest athlete partake in in 2006? (2 points)"
      ],
      "metadata": {
        "id": "Zho4WtH2NB-z"
      }
    },
    {
      "cell_type": "code",
      "source": [
        "df['Weight'][df['Year'] == 2006.0].max() #127.0\n",
        "q6 = df['Sport'][(df['Weight'] == 127.0) & (df['Year'] == 2006.0)]\n",
        "q6\n",
        "print('The most heavyset person in 2006 took part in', q6.iloc[0])\n"
      ],
      "metadata": {
        "colab": {
          "base_uri": "https://localhost:8080/"
        },
        "id": "qIME7LM4Mv7f",
        "outputId": "07ac9a6c-c8b0-41a9-e89b-c8c0c0d63239"
      },
      "execution_count": 422,
      "outputs": [
        {
          "output_type": "stream",
          "name": "stdout",
          "text": [
            "The most heavyset person in 2006 took part in Skeleton\n"
          ]
        }
      ]
    },
    {
      "cell_type": "markdown",
      "source": [
        "# 7. \n",
        "Golden medals won by women in 1980-2010 (2 points)\n"
      ],
      "metadata": {
        "id": "yye2LqeVQBU3"
      }
    },
    {
      "cell_type": "code",
      "source": [
        "q7 = df.query('(Sex == \"F\") &  (1980<= Year <= 2010) &  (Medal == \"Gold\")')\n",
        "print(f'{len(q7)} golden medals were won by women in 1980-2010.')"
      ],
      "metadata": {
        "colab": {
          "base_uri": "https://localhost:8080/"
        },
        "id": "ob9Qal2IN8C9",
        "outputId": "086e7336-bfdf-4ef0-f683-4266969eb370"
      },
      "execution_count": 424,
      "outputs": [
        {
          "output_type": "stream",
          "name": "stdout",
          "text": [
            "2249 golden medals were won by women in 1980-2010.\n"
          ]
        }
      ]
    },
    {
      "cell_type": "markdown",
      "source": [
        "# 8. \n",
        "How many times did John Aalberg partake in the Games? (2 points)"
      ],
      "metadata": {
        "id": "FzPfJobdO8Ij"
      }
    },
    {
      "cell_type": "code",
      "source": [
        "q8 = df.query('(Name == \"John Aalberg\")')\n",
        "q8_1 = df['Year'][df['Name'] == \"John Aalberg\"].unique()\n",
        "q8_2 = len(df.query('(Name == \"John Aalberg\") & (Year == 1992.0)'))\n",
        "q8_3 = len(df.query('(Name == \"John Aalberg\") & (Year == 1994.0)'))\n",
        "\n",
        "print(f'John Aalberg participated in Games in {len(q8_1)} different years: {q8_2} times in {q8_1[0]} and {q8_3} times in {q8_1[1]}')\n"
      ],
      "metadata": {
        "colab": {
          "base_uri": "https://localhost:8080/"
        },
        "id": "Mh1AQV6YRvGe",
        "outputId": "40fdffa8-1ac1-432b-cca8-e121ed7443d4"
      },
      "execution_count": 425,
      "outputs": [
        {
          "output_type": "stream",
          "name": "stdout",
          "text": [
            "John Aalberg participated in Games in 2 different years: 4 times in 1992.0 and 4 times in 1994.0\n"
          ]
        }
      ]
    },
    {
      "cell_type": "markdown",
      "source": [
        "# 9. \n",
        "The most an the least represented age groups amoung the following: [15-25), [25-35), [35-45), [45-55]. (4 points)\n"
      ],
      "metadata": {
        "id": "dBa6yij3U3sb"
      }
    },
    {
      "cell_type": "code",
      "source": [
        "df.head()"
      ],
      "metadata": {
        "colab": {
          "base_uri": "https://localhost:8080/",
          "height": 354
        },
        "id": "n7Lep2VIR77y",
        "outputId": "be6b690d-3950-4612-c8df-5657f987dc39"
      },
      "execution_count": 426,
      "outputs": [
        {
          "output_type": "execute_result",
          "data": {
            "text/plain": [
              "       ID                       Name Sex   Age  Height  Weight         Team  \\\n",
              "0  124517          William Van Dijck   M  23.0   185.0    65.0      Belgium   \n",
              "1  124517          William Van Dijck   M  27.0   185.0    65.0      Belgium   \n",
              "2  124517          William Van Dijck   M  31.0   185.0    65.0      Belgium   \n",
              "3  124518     Daniel \"Daan\" van Dijk   M  21.0     NaN     NaN  Netherlands   \n",
              "4  124519  Everdina \"Edith\" van Dijk   F  35.0   176.0    66.0  Netherlands   \n",
              "\n",
              "   NOC        Games    Year  Season         City      Sport  \\\n",
              "0  BEL  1984 Summer  1984.0  Summer  Los Angeles  Athletics   \n",
              "1  BEL  1988 Summer  1988.0  Summer        Seoul  Athletics   \n",
              "2  BEL  1992 Summer  1992.0  Summer    Barcelona  Athletics   \n",
              "3  NED  1928 Summer  1928.0  Summer    Amsterdam    Cycling   \n",
              "4  NED  2008 Summer  2008.0  Summer      Beijing   Swimming   \n",
              "\n",
              "                                       Event Medal  \n",
              "0  Athletics Men's 3,000 metres Steeplechase   NaN  \n",
              "1  Athletics Men's 3,000 metres Steeplechase   NaN  \n",
              "2  Athletics Men's 3,000 metres Steeplechase   NaN  \n",
              "3  Cycling Men's Tandem Sprint, 2,000 metres  Gold  \n",
              "4  Swimming Women's 10 kilometres Open Water   NaN  "
            ],
            "text/html": [
              "\n",
              "  <div id=\"df-43786fa1-8f36-4776-92e0-c64427066ec8\">\n",
              "    <div class=\"colab-df-container\">\n",
              "      <div>\n",
              "<style scoped>\n",
              "    .dataframe tbody tr th:only-of-type {\n",
              "        vertical-align: middle;\n",
              "    }\n",
              "\n",
              "    .dataframe tbody tr th {\n",
              "        vertical-align: top;\n",
              "    }\n",
              "\n",
              "    .dataframe thead th {\n",
              "        text-align: right;\n",
              "    }\n",
              "</style>\n",
              "<table border=\"1\" class=\"dataframe\">\n",
              "  <thead>\n",
              "    <tr style=\"text-align: right;\">\n",
              "      <th></th>\n",
              "      <th>ID</th>\n",
              "      <th>Name</th>\n",
              "      <th>Sex</th>\n",
              "      <th>Age</th>\n",
              "      <th>Height</th>\n",
              "      <th>Weight</th>\n",
              "      <th>Team</th>\n",
              "      <th>NOC</th>\n",
              "      <th>Games</th>\n",
              "      <th>Year</th>\n",
              "      <th>Season</th>\n",
              "      <th>City</th>\n",
              "      <th>Sport</th>\n",
              "      <th>Event</th>\n",
              "      <th>Medal</th>\n",
              "    </tr>\n",
              "  </thead>\n",
              "  <tbody>\n",
              "    <tr>\n",
              "      <th>0</th>\n",
              "      <td>124517</td>\n",
              "      <td>William Van Dijck</td>\n",
              "      <td>M</td>\n",
              "      <td>23.0</td>\n",
              "      <td>185.0</td>\n",
              "      <td>65.0</td>\n",
              "      <td>Belgium</td>\n",
              "      <td>BEL</td>\n",
              "      <td>1984 Summer</td>\n",
              "      <td>1984.0</td>\n",
              "      <td>Summer</td>\n",
              "      <td>Los Angeles</td>\n",
              "      <td>Athletics</td>\n",
              "      <td>Athletics Men's 3,000 metres Steeplechase</td>\n",
              "      <td>NaN</td>\n",
              "    </tr>\n",
              "    <tr>\n",
              "      <th>1</th>\n",
              "      <td>124517</td>\n",
              "      <td>William Van Dijck</td>\n",
              "      <td>M</td>\n",
              "      <td>27.0</td>\n",
              "      <td>185.0</td>\n",
              "      <td>65.0</td>\n",
              "      <td>Belgium</td>\n",
              "      <td>BEL</td>\n",
              "      <td>1988 Summer</td>\n",
              "      <td>1988.0</td>\n",
              "      <td>Summer</td>\n",
              "      <td>Seoul</td>\n",
              "      <td>Athletics</td>\n",
              "      <td>Athletics Men's 3,000 metres Steeplechase</td>\n",
              "      <td>NaN</td>\n",
              "    </tr>\n",
              "    <tr>\n",
              "      <th>2</th>\n",
              "      <td>124517</td>\n",
              "      <td>William Van Dijck</td>\n",
              "      <td>M</td>\n",
              "      <td>31.0</td>\n",
              "      <td>185.0</td>\n",
              "      <td>65.0</td>\n",
              "      <td>Belgium</td>\n",
              "      <td>BEL</td>\n",
              "      <td>1992 Summer</td>\n",
              "      <td>1992.0</td>\n",
              "      <td>Summer</td>\n",
              "      <td>Barcelona</td>\n",
              "      <td>Athletics</td>\n",
              "      <td>Athletics Men's 3,000 metres Steeplechase</td>\n",
              "      <td>NaN</td>\n",
              "    </tr>\n",
              "    <tr>\n",
              "      <th>3</th>\n",
              "      <td>124518</td>\n",
              "      <td>Daniel \"Daan\" van Dijk</td>\n",
              "      <td>M</td>\n",
              "      <td>21.0</td>\n",
              "      <td>NaN</td>\n",
              "      <td>NaN</td>\n",
              "      <td>Netherlands</td>\n",
              "      <td>NED</td>\n",
              "      <td>1928 Summer</td>\n",
              "      <td>1928.0</td>\n",
              "      <td>Summer</td>\n",
              "      <td>Amsterdam</td>\n",
              "      <td>Cycling</td>\n",
              "      <td>Cycling Men's Tandem Sprint, 2,000 metres</td>\n",
              "      <td>Gold</td>\n",
              "    </tr>\n",
              "    <tr>\n",
              "      <th>4</th>\n",
              "      <td>124519</td>\n",
              "      <td>Everdina \"Edith\" van Dijk</td>\n",
              "      <td>F</td>\n",
              "      <td>35.0</td>\n",
              "      <td>176.0</td>\n",
              "      <td>66.0</td>\n",
              "      <td>Netherlands</td>\n",
              "      <td>NED</td>\n",
              "      <td>2008 Summer</td>\n",
              "      <td>2008.0</td>\n",
              "      <td>Summer</td>\n",
              "      <td>Beijing</td>\n",
              "      <td>Swimming</td>\n",
              "      <td>Swimming Women's 10 kilometres Open Water</td>\n",
              "      <td>NaN</td>\n",
              "    </tr>\n",
              "  </tbody>\n",
              "</table>\n",
              "</div>\n",
              "      <button class=\"colab-df-convert\" onclick=\"convertToInteractive('df-43786fa1-8f36-4776-92e0-c64427066ec8')\"\n",
              "              title=\"Convert this dataframe to an interactive table.\"\n",
              "              style=\"display:none;\">\n",
              "        \n",
              "  <svg xmlns=\"http://www.w3.org/2000/svg\" height=\"24px\"viewBox=\"0 0 24 24\"\n",
              "       width=\"24px\">\n",
              "    <path d=\"M0 0h24v24H0V0z\" fill=\"none\"/>\n",
              "    <path d=\"M18.56 5.44l.94 2.06.94-2.06 2.06-.94-2.06-.94-.94-2.06-.94 2.06-2.06.94zm-11 1L8.5 8.5l.94-2.06 2.06-.94-2.06-.94L8.5 2.5l-.94 2.06-2.06.94zm10 10l.94 2.06.94-2.06 2.06-.94-2.06-.94-.94-2.06-.94 2.06-2.06.94z\"/><path d=\"M17.41 7.96l-1.37-1.37c-.4-.4-.92-.59-1.43-.59-.52 0-1.04.2-1.43.59L10.3 9.45l-7.72 7.72c-.78.78-.78 2.05 0 2.83L4 21.41c.39.39.9.59 1.41.59.51 0 1.02-.2 1.41-.59l7.78-7.78 2.81-2.81c.8-.78.8-2.07 0-2.86zM5.41 20L4 18.59l7.72-7.72 1.47 1.35L5.41 20z\"/>\n",
              "  </svg>\n",
              "      </button>\n",
              "      \n",
              "  <style>\n",
              "    .colab-df-container {\n",
              "      display:flex;\n",
              "      flex-wrap:wrap;\n",
              "      gap: 12px;\n",
              "    }\n",
              "\n",
              "    .colab-df-convert {\n",
              "      background-color: #E8F0FE;\n",
              "      border: none;\n",
              "      border-radius: 50%;\n",
              "      cursor: pointer;\n",
              "      display: none;\n",
              "      fill: #1967D2;\n",
              "      height: 32px;\n",
              "      padding: 0 0 0 0;\n",
              "      width: 32px;\n",
              "    }\n",
              "\n",
              "    .colab-df-convert:hover {\n",
              "      background-color: #E2EBFA;\n",
              "      box-shadow: 0px 1px 2px rgba(60, 64, 67, 0.3), 0px 1px 3px 1px rgba(60, 64, 67, 0.15);\n",
              "      fill: #174EA6;\n",
              "    }\n",
              "\n",
              "    [theme=dark] .colab-df-convert {\n",
              "      background-color: #3B4455;\n",
              "      fill: #D2E3FC;\n",
              "    }\n",
              "\n",
              "    [theme=dark] .colab-df-convert:hover {\n",
              "      background-color: #434B5C;\n",
              "      box-shadow: 0px 1px 3px 1px rgba(0, 0, 0, 0.15);\n",
              "      filter: drop-shadow(0px 1px 2px rgba(0, 0, 0, 0.3));\n",
              "      fill: #FFFFFF;\n",
              "    }\n",
              "  </style>\n",
              "\n",
              "      <script>\n",
              "        const buttonEl =\n",
              "          document.querySelector('#df-43786fa1-8f36-4776-92e0-c64427066ec8 button.colab-df-convert');\n",
              "        buttonEl.style.display =\n",
              "          google.colab.kernel.accessAllowed ? 'block' : 'none';\n",
              "\n",
              "        async function convertToInteractive(key) {\n",
              "          const element = document.querySelector('#df-43786fa1-8f36-4776-92e0-c64427066ec8');\n",
              "          const dataTable =\n",
              "            await google.colab.kernel.invokeFunction('convertToInteractive',\n",
              "                                                     [key], {});\n",
              "          if (!dataTable) return;\n",
              "\n",
              "          const docLinkHtml = 'Like what you see? Visit the ' +\n",
              "            '<a target=\"_blank\" href=https://colab.research.google.com/notebooks/data_table.ipynb>data table notebook</a>'\n",
              "            + ' to learn more about interactive tables.';\n",
              "          element.innerHTML = '';\n",
              "          dataTable['output_type'] = 'display_data';\n",
              "          await google.colab.output.renderOutput(dataTable, element);\n",
              "          const docLink = document.createElement('div');\n",
              "          docLink.innerHTML = docLinkHtml;\n",
              "          element.appendChild(docLink);\n",
              "        }\n",
              "      </script>\n",
              "    </div>\n",
              "  </div>\n",
              "  "
            ]
          },
          "metadata": {},
          "execution_count": 426
        }
      ]
    },
    {
      "cell_type": "code",
      "source": [
        "q9_1 = df.query('(Year == 2008) &  (15<= Age < 25)')\n",
        "q9_2 = df.query('(Year == 2008) &  (25<= Age < 35)')\n",
        "q9_3 = df.query('(Year == 2008) &  (35<= Age < 45)')\n",
        "q9_4 = df.query('(Year == 2008) &  (45<= Age <= 55)')\n"
      ],
      "metadata": {
        "id": "70Z7eKwsTpg3"
      },
      "execution_count": 427,
      "outputs": []
    },
    {
      "cell_type": "code",
      "source": [
        "d = {}\n",
        "keys = [q9_1, q9_2, q9_3, q9_4]\n",
        "for i in range(len(keys)):\n",
        "  d[i+1] = len(keys[i])\n",
        "print(d)\n",
        "print(\"The least represented age group among the groups [15-25), [25-35), [35-45), [45-55] is group number\", min(d, key=d.get))\n",
        "print(\"The most represented age group among the groups [15-25), [25-35), [35-45), [45-55] is group number\", max(d, key=d.get))"
      ],
      "metadata": {
        "colab": {
          "base_uri": "https://localhost:8080/"
        },
        "id": "52afk1k0UV7l",
        "outputId": "d772b02a-ed95-4831-c398-32badbb7e19f"
      },
      "execution_count": 428,
      "outputs": [
        {
          "output_type": "stream",
          "name": "stdout",
          "text": [
            "{1: 6294, 2: 6367, 3: 790, 4: 116}\n",
            "The least represented age group among the groups [15-25), [25-35), [35-45), [45-55] is group number 4\n",
            "The most represented age group among the groups [15-25), [25-35), [35-45), [45-55] is group number 2\n"
          ]
        }
      ]
    },
    {
      "cell_type": "markdown",
      "source": [
        "## 10. \n",
        "the number of sports in 2002 as compared to 1994 (2 points)\n"
      ],
      "metadata": {
        "id": "nNzjlPm9IRO7"
      }
    },
    {
      "cell_type": "code",
      "source": [
        "q10_1 = df['Sport'][df['Year'] == 2002].unique()\n",
        "q10_2 = df['Sport'][df['Year'] == 1994].unique()\n",
        "delta = len(q10_1) - len(q10_2)\n",
        "if delta > 0:\n",
        "  print(\"The number of sports increased by\", delta)\n",
        "elif delta < 0:\n",
        "  print(\"The number of sports decreased by\", abs(delta))\n"
      ],
      "metadata": {
        "colab": {
          "base_uri": "https://localhost:8080/"
        },
        "id": "Bwmk25mrGutR",
        "outputId": "2ece69c3-7354-4432-8377-20d38c288aca"
      },
      "execution_count": 429,
      "outputs": [
        {
          "output_type": "stream",
          "name": "stdout",
          "text": [
            "The number of sports increased by 3\n"
          ]
        }
      ]
    },
    {
      "cell_type": "markdown",
      "source": [
        "## 11. \n",
        "top3 countries for every medal type in each season (2 points)\n"
      ],
      "metadata": {
        "id": "qBfT7BoAMu15"
      }
    },
    {
      "cell_type": "code",
      "source": [
        "seasons = [\"Summer\", \"Winter\"]\n",
        "medals = [\"Gold\", \"Silver\", \"Bronze\"]\n",
        "for season in seasons:\n",
        "  for medal in medals:\n",
        "    q11_1 = df['NOC'][(df['Season'] == season) & (df['Medal'] == medal)].value_counts()[:3].index\n",
        "    print(\"Top 3 countries in\", season, \"with\", medal, \"medal are\", *q11_1)\n"
      ],
      "metadata": {
        "colab": {
          "base_uri": "https://localhost:8080/"
        },
        "id": "KdSgTE8tInhJ",
        "outputId": "57e0baf5-1286-4fc4-c350-91ff3509279e"
      },
      "execution_count": 447,
      "outputs": [
        {
          "output_type": "stream",
          "name": "stdout",
          "text": [
            "Top 3 countries in Summer with Gold medal are USA URS GBR\n",
            "Top 3 countries in Summer with Silver medal are USA GBR URS\n",
            "Top 3 countries in Summer with Bronze medal are USA GER GBR\n",
            "Top 3 countries in Winter with Gold medal are CAN URS USA\n",
            "Top 3 countries in Winter with Silver medal are USA CAN NOR\n",
            "Top 3 countries in Winter with Bronze medal are FIN SWE USA\n"
          ]
        }
      ]
    },
    {
      "cell_type": "markdown",
      "source": [
        "# 12. \n",
        "standardize height values (2 points)"
      ],
      "metadata": {
        "id": "YWWdTY11gA64"
      }
    },
    {
      "cell_type": "code",
      "source": [
        "Height_z_scores = (df[\"Height\"] - df[\"Height\"].mean()) / df[\"Height\"].std()"
      ],
      "metadata": {
        "id": "Ss4EeCamNjBO"
      },
      "execution_count": 431,
      "outputs": []
    },
    {
      "cell_type": "code",
      "source": [
        "Height_z_scores"
      ],
      "metadata": {
        "colab": {
          "base_uri": "https://localhost:8080/"
        },
        "id": "FAC0ycw8kdk1",
        "outputId": "5cc19322-be03-46bd-8297-6d2b7686b182"
      },
      "execution_count": 432,
      "outputs": [
        {
          "output_type": "execute_result",
          "data": {
            "text/plain": [
              "0         0.918301\n",
              "1         0.918301\n",
              "2         0.918301\n",
              "3              NaN\n",
              "4         0.062796\n",
              "            ...   \n",
              "271110   -0.412485\n",
              "271111    0.823245\n",
              "271112         NaN\n",
              "271113    0.538077\n",
              "271114         NaN\n",
              "Name: Height, Length: 269979, dtype: float64"
            ]
          },
          "metadata": {},
          "execution_count": 432
        }
      ]
    },
    {
      "cell_type": "markdown",
      "source": [
        "# 13. \n",
        "min-max normalizatioin of height (2 points)"
      ],
      "metadata": {
        "id": "Nj9d-qARlS1a"
      }
    },
    {
      "cell_type": "code",
      "source": [
        "Height_min_max_scaled = (df[\"Height\"] - df[\"Height\"].min()) / (df[\"Height\"].max() - df[\"Height\"].min())"
      ],
      "metadata": {
        "id": "UdHRQqlTVmXY"
      },
      "execution_count": 433,
      "outputs": []
    },
    {
      "cell_type": "code",
      "source": [
        "Height_min_max_scaled"
      ],
      "metadata": {
        "colab": {
          "base_uri": "https://localhost:8080/"
        },
        "id": "rH6qpNRmV6Rp",
        "outputId": "7af93a4e-4cd3-49ab-d522-d3c7249867b9"
      },
      "execution_count": 434,
      "outputs": [
        {
          "output_type": "execute_result",
          "data": {
            "text/plain": [
              "0         0.585859\n",
              "1         0.585859\n",
              "2         0.585859\n",
              "3              NaN\n",
              "4         0.494949\n",
              "            ...   \n",
              "271110    0.444444\n",
              "271111    0.575758\n",
              "271112         NaN\n",
              "271113    0.545455\n",
              "271114         NaN\n",
              "Name: Height, Length: 269979, dtype: float64"
            ]
          },
          "metadata": {},
          "execution_count": 434
        }
      ]
    },
    {
      "cell_type": "markdown",
      "source": [
        "# 14. \n",
        "compare height, weight, and age between males and females (5 points)\n"
      ],
      "metadata": {
        "id": "s7DvcbbHlUfB"
      }
    },
    {
      "cell_type": "code",
      "source": [
        "data_subset = df[(df['Season'] == \"Winter\")]\n",
        "fig, axes = plt.subplots(1, 3, figsize=(20, 5))\n",
        "\n",
        "fig.suptitle('Parameters for men and women in Winter Olympic games');\n",
        "\n",
        "sns.boxplot(ax=axes[0], data=data_subset, x=\"Sex\", y='Height');\n",
        "sns.boxplot(ax=axes[1], data=data_subset, x=\"Sex\", y='Weight')\n",
        "sns.boxplot(ax=axes[2], data=data_subset, x=\"Sex\", y='Age');\n"
      ],
      "metadata": {
        "colab": {
          "base_uri": "https://localhost:8080/",
          "height": 356
        },
        "id": "QLhnkrYCrIf1",
        "outputId": "ec33b287-33d7-497d-c8a5-be63848f4d05"
      },
      "execution_count": 435,
      "outputs": [
        {
          "output_type": "display_data",
          "data": {
            "text/plain": [
              "<Figure size 1440x360 with 3 Axes>"
            ],
            "image/png": "[encoded data removed]"
          },
          "metadata": {}
        }
      ]
    },
    {
      "cell_type": "markdown",
      "source": [
        "\n",
        "Perform mannwhitney test and check p-values manually\n",
        "\n"
      ],
      "metadata": {
        "id": "22WZsQ8xMWCA"
      }
    },
    {
      "cell_type": "code",
      "source": [
        "male_h = data_subset.loc[(data_subset.Sex == \"M\"), \"Height\"].dropna().values\n",
        "female_h = data_subset.loc[(data_subset.Sex == \"F\"), \"Height\"].dropna().values\n",
        "male_w = data_subset.loc[(data_subset.Sex == \"M\"), \"Weight\"].dropna().values\n",
        "female_w = data_subset.loc[(data_subset.Sex == \"F\"), \"Weight\"].dropna().values\n",
        "male_a = data_subset.loc[(data_subset.Sex == \"M\"), \"Age\"].dropna().values\n",
        "female_a = data_subset.loc[(data_subset.Sex == \"F\"), \"Age\"].dropna().values"
      ],
      "metadata": {
        "id": "0GgbXQBE8x22"
      },
      "execution_count": 436,
      "outputs": []
    },
    {
      "cell_type": "code",
      "source": [
        "stat_results = [\n",
        "  mannwhitneyu(male_h, female_h, alternative=\"two-sided\"),\n",
        "  mannwhitneyu(male_w, female_w, alternative=\"two-sided\"),\n",
        "  mannwhitneyu(male_a, female_a, alternative=\"two-sided\")\n",
        "]\n",
        "\n",
        "pvalues = [result.pvalue for result in stat_results]\n",
        "\n",
        "print(\"male_h vs female_h: \\n\", stat_results[0], \"\\n\")\n",
        "print(\"male_w vs female_w: \\n\", stat_results[1], \"\\n\")\n",
        "print(\"male_a vs female_a: \\n\", stat_results[2], \"\\n\")"
      ],
      "metadata": {
        "colab": {
          "base_uri": "https://localhost:8080/"
        },
        "id": "P6YyTlde-Yxq",
        "outputId": "487d2e26-496f-4f46-d0b6-e7509d8e1d62"
      },
      "execution_count": 437,
      "outputs": [
        {
          "output_type": "stream",
          "name": "stdout",
          "text": [
            "male_h vs female_h: \n",
            " MannwhitneyuResult(statistic=329593449.0, pvalue=0.0) \n",
            "\n",
            "male_w vs female_w: \n",
            " MannwhitneyuResult(statistic=319874076.0, pvalue=0.0) \n",
            "\n",
            "male_a vs female_a: \n",
            " MannwhitneyuResult(statistic=294428703.0, pvalue=6.161336398147834e-214) \n",
            "\n"
          ]
        }
      ]
    },
    {
      "cell_type": "code",
      "source": [
        "formatted_pvalues = [f'p={pvalue:.2e}' for pvalue in pvalues]\n",
        "\n",
        "formatted_pvalues"
      ],
      "metadata": {
        "colab": {
          "base_uri": "https://localhost:8080/"
        },
        "id": "dHTmF_g5AUgL",
        "outputId": "e2c4346a-d205-4952-cfe6-074c88878823"
      },
      "execution_count": 438,
      "outputs": [
        {
          "output_type": "execute_result",
          "data": {
            "text/plain": [
              "['p=0.00e+00', 'p=0.00e+00', 'p=6.16e-214']"
            ]
          },
          "metadata": {},
          "execution_count": 438
        }
      ]
    },
    {
      "cell_type": "code",
      "source": [
        "!pip install statannot"
      ],
      "metadata": {
        "colab": {
          "base_uri": "https://localhost:8080/"
        },
        "id": "e30oUo_iFT6F",
        "outputId": "599672d0-263d-40f1-c219-c6c59adac945"
      },
      "execution_count": 439,
      "outputs": [
        {
          "output_type": "stream",
          "name": "stdout",
          "text": [
            "Looking in indexes: https://pypi.org/simple, https://us-python.pkg.dev/colab-wheels/public/simple/\n",
            "Requirement already satisfied: statannot in /usr/local/lib/python3.7/dist-packages (0.2.3)\n"
          ]
        }
      ]
    },
    {
      "cell_type": "markdown",
      "source": [
        "Final plots with p-values"
      ],
      "metadata": {
        "id": "dScug__7MpSn"
      }
    },
    {
      "cell_type": "code",
      "source": [
        "data_subset = df[(df['Season'] == \"Winter\")]\n",
        "fig, axes = plt.subplots(1, 3, figsize=(20, 5));\n",
        "\n",
        "fig.suptitle('Parameters for men and women in Winter Olympic games');\n",
        "ax = sns.boxplot(ax=axes[0],data=data_subset, x=\"Sex\", y=\"Height\");\n",
        "add_stat_annotation(ax, data=data_subset, x=\"Sex\", y=\"Height\",\n",
        "                                   box_pairs=[(\"F\", \"M\")],\n",
        "                                   test='Mann-Whitney', text_format='star',\n",
        "                                   verbose=2);\n",
        "ax1 = sns.boxplot(ax=axes[1],data=data_subset, x=\"Sex\", y=\"Weight\");\n",
        "add_stat_annotation(ax1, data=data_subset, x=\"Sex\", y=\"Weight\",\n",
        "                                   box_pairs=[(\"F\", \"M\")],\n",
        "                                   test='Mann-Whitney', text_format='star',\n",
        "                                   verbose=2);\n",
        "ax2 = sns.boxplot(ax=axes[2],data=data_subset, x=\"Sex\", y=\"Age\");\n",
        "add_stat_annotation(ax2, data=data_subset, x=\"Sex\", y=\"Age\",\n",
        "                                   box_pairs=[(\"F\", \"M\")],\n",
        "                                   test='Mann-Whitney', text_format='star',\n",
        "                                   verbose=2);\n",
        "# test_results;"
      ],
      "metadata": {
        "colab": {
          "base_uri": "https://localhost:8080/",
          "height": 772
        },
        "id": "XbhEHRHP--n_",
        "outputId": "e0918e10-1f30-4d61-cd67-b8167b63b1ad"
      },
      "execution_count": 440,
      "outputs": [
        {
          "output_type": "stream",
          "name": "stdout",
          "text": [
            "p-value annotation legend:\n",
            "ns: 5.00e-02 < p <= 1.00e+00\n",
            "*: 1.00e-02 < p <= 5.00e-02\n",
            "**: 1.00e-03 < p <= 1.00e-02\n",
            "***: 1.00e-04 < p <= 1.00e-03\n",
            "****: p <= 1.00e-04\n",
            "\n",
            "M v.s. F: Mann-Whitney-Wilcoxon test two-sided with Bonferroni correction, P_val=0.000e+00 U_stat=3.296e+08\n",
            "p-value annotation legend:\n",
            "ns: 5.00e-02 < p <= 1.00e+00\n",
            "*: 1.00e-02 < p <= 5.00e-02\n",
            "**: 1.00e-03 < p <= 1.00e-02\n",
            "***: 1.00e-04 < p <= 1.00e-03\n",
            "****: p <= 1.00e-04\n",
            "\n",
            "M v.s. F: Mann-Whitney-Wilcoxon test two-sided with Bonferroni correction, P_val=0.000e+00 U_stat=3.199e+08\n",
            "p-value annotation legend:\n",
            "ns: 5.00e-02 < p <= 1.00e+00\n",
            "*: 1.00e-02 < p <= 5.00e-02\n",
            "**: 1.00e-03 < p <= 1.00e-02\n",
            "***: 1.00e-04 < p <= 1.00e-03\n",
            "****: p <= 1.00e-04\n",
            "\n",
            "M v.s. F: Mann-Whitney-Wilcoxon test two-sided with Bonferroni correction, P_val=6.161e-214 U_stat=2.944e+08\n"
          ]
        },
        {
          "output_type": "display_data",
          "data": {
            "text/plain": [
              "<Figure size 1440x360 with 3 Axes>"
            ],
            "image/png": "[encoded data removed]"
          },
          "metadata": {}
        }
      ]
    },
    {
      "cell_type": "markdown",
      "source": [
        "## 15. \n",
        "Team and Medal interrelation (5 points)"
      ],
      "metadata": {
        "id": "cnksMsWXut5u"
      }
    },
    {
      "cell_type": "code",
      "source": [
        "df[\"Team\"][df['Medal'] == \"Gold\"].value_counts()"
      ],
      "metadata": {
        "colab": {
          "base_uri": "https://localhost:8080/"
        },
        "id": "YHt075w9NPZw",
        "outputId": "a59dc3b9-8cb7-453f-a9c9-f17eb466c0da"
      },
      "execution_count": 441,
      "outputs": [
        {
          "output_type": "execute_result",
          "data": {
            "text/plain": [
              "United States    2471\n",
              "Soviet Union     1058\n",
              "Germany           678\n",
              "Italy             534\n",
              "Great Britain     514\n",
              "                 ... \n",
              "Peru                1\n",
              "Israel              1\n",
              "Baby-1              1\n",
              "Femur-1             1\n",
              "Camille             1\n",
              "Name: Team, Length: 242, dtype: int64"
            ]
          },
          "metadata": {},
          "execution_count": 441
        }
      ]
    },
    {
      "cell_type": "code",
      "source": [
        "df[\"Team\"][df['Medal'] == \"Silver\"].value_counts()"
      ],
      "metadata": {
        "colab": {
          "base_uri": "https://localhost:8080/"
        },
        "id": "6AtSl5ZiOAS-",
        "outputId": "9d48947d-e62f-4d03-a61b-e872b5a02783"
      },
      "execution_count": 442,
      "outputs": [
        {
          "output_type": "execute_result",
          "data": {
            "text/plain": [
              "United States           1502\n",
              "Soviet Union             716\n",
              "Germany                  626\n",
              "Great Britain            578\n",
              "France                   513\n",
              "                        ... \n",
              "United Arab Republic       1\n",
              "Ecuador                    1\n",
              "Costa Rica                 1\n",
              "Ghana                      1\n",
              "Cote d'Ivoire              1\n",
              "Name: Team, Length: 273, dtype: int64"
            ]
          },
          "metadata": {},
          "execution_count": 442
        }
      ]
    },
    {
      "cell_type": "code",
      "source": [
        "df[\"Team\"][df['Medal'] == \"Bronze\"].value_counts()"
      ],
      "metadata": {
        "colab": {
          "base_uri": "https://localhost:8080/"
        },
        "id": "9SRJzTdHOAbb",
        "outputId": "beb7bc09-2158-4e4e-b7e6-2d45651276ca"
      },
      "execution_count": 443,
      "outputs": [
        {
          "output_type": "execute_result",
          "data": {
            "text/plain": [
              "United States           1229\n",
              "Soviet Union             677\n",
              "Germany                  676\n",
              "France                   573\n",
              "Great Britain            572\n",
              "                        ... \n",
              "Zimbabwe                   1\n",
              "Mignon-3                   1\n",
              "United Arab Republic       1\n",
              "Cote d'Ivoire              1\n",
              "Formosa                    1\n",
              "Name: Team, Length: 268, dtype: int64"
            ]
          },
          "metadata": {},
          "execution_count": 443
        }
      ]
    },
    {
      "cell_type": "markdown",
      "source": [
        "Yes, we can hypothesize they are interrelated, as top countries are more or less the same for all the medal types"
      ],
      "metadata": {
        "id": "IiNLPhO4cGCY"
      }
    },
    {
      "cell_type": "markdown",
      "source": [
        "# 16. \n",
        "test several hypotheses (10 points)"
      ],
      "metadata": {
        "id": "4ItD70MKdBDM"
      }
    },
    {
      "cell_type": "markdown",
      "source": [
        "1. In task 16, we have already compared height, weight and age in men in women who partook in Winter Games and tested 3 hypotheses with Mann-Whitney test:\n",
        "* 1) H0: the distribution of height in men is the same as in women;\n",
        "* 2) H0: the distribution of weight in men is the same as in women;\n",
        "* 3) H0: the distribution of age in men is the same as in women\n",
        "\n",
        "In every case, the test showed that the parameters are not equal between men and women.\n"
      ],
      "metadata": {
        "id": "J4E1CmAUXEza"
      }
    },
    {
      "cell_type": "markdown",
      "source": [
        "2. Let's check if Weight and Height correlate"
      ],
      "metadata": {
        "id": "0TSvbOQ-eTVH"
      }
    },
    {
      "cell_type": "code",
      "source": [
        "# Plot sepal width as a function of sepal_length across days\n",
        "sns.lmplot(\n",
        "    data=df,\n",
        "    x=\"Height\", y=\"Weight\",\n",
        "    height=5, line_kws={'color': 'red'}\n",
        ");\n"
      ],
      "metadata": {
        "colab": {
          "base_uri": "https://localhost:8080/",
          "height": 365
        },
        "id": "j_JdjonaPmaR",
        "outputId": "2e8dbd5a-a29d-4648-d808-6051e5512085"
      },
      "execution_count": 444,
      "outputs": [
        {
          "output_type": "display_data",
          "data": {
            "text/plain": [
              "<Figure size 360x360 with 1 Axes>"
            ],
            "image/png": "[encoded data removed]"
          },
          "metadata": {}
        }
      ]
    },
    {
      "cell_type": "code",
      "source": [
        "# I'll use spearman correlation, so there's no need to check if the values follow normal distribution\n",
        "table = df[[\"Height\", \"Weight\"]]\n",
        "table.corr(method='spearman', min_periods=1)\n"
      ],
      "metadata": {
        "colab": {
          "base_uri": "https://localhost:8080/",
          "height": 112
        },
        "id": "GIUSeBRye5cp",
        "outputId": "f034260f-d92f-470a-feb1-ae6680ea7e21"
      },
      "execution_count": 445,
      "outputs": [
        {
          "output_type": "execute_result",
          "data": {
            "text/plain": [
              "          Height    Weight\n",
              "Height  1.000000  0.827279\n",
              "Weight  0.827279  1.000000"
            ],
            "text/html": [
              "\n",
              "  <div id=\"df-94d5dacb-7f5d-422b-9863-e6f51abb949e\">\n",
              "    <div class=\"colab-df-container\">\n",
              "      <div>\n",
              "<style scoped>\n",
              "    .dataframe tbody tr th:only-of-type {\n",
              "        vertical-align: middle;\n",
              "    }\n",
              "\n",
              "    .dataframe tbody tr th {\n",
              "        vertical-align: top;\n",
              "    }\n",
              "\n",
              "    .dataframe thead th {\n",
              "        text-align: right;\n",
              "    }\n",
              "</style>\n",
              "<table border=\"1\" class=\"dataframe\">\n",
              "  <thead>\n",
              "    <tr style=\"text-align: right;\">\n",
              "      <th></th>\n",
              "      <th>Height</th>\n",
              "      <th>Weight</th>\n",
              "    </tr>\n",
              "  </thead>\n",
              "  <tbody>\n",
              "    <tr>\n",
              "      <th>Height</th>\n",
              "      <td>1.000000</td>\n",
              "      <td>0.827279</td>\n",
              "    </tr>\n",
              "    <tr>\n",
              "      <th>Weight</th>\n",
              "      <td>0.827279</td>\n",
              "      <td>1.000000</td>\n",
              "    </tr>\n",
              "  </tbody>\n",
              "</table>\n",
              "</div>\n",
              "      <button class=\"colab-df-convert\" onclick=\"convertToInteractive('df-94d5dacb-7f5d-422b-9863-e6f51abb949e')\"\n",
              "              title=\"Convert this dataframe to an interactive table.\"\n",
              "              style=\"display:none;\">\n",
              "        \n",
              "  <svg xmlns=\"http://www.w3.org/2000/svg\" height=\"24px\"viewBox=\"0 0 24 24\"\n",
              "       width=\"24px\">\n",
              "    <path d=\"M0 0h24v24H0V0z\" fill=\"none\"/>\n",
              "    <path d=\"M18.56 5.44l.94 2.06.94-2.06 2.06-.94-2.06-.94-.94-2.06-.94 2.06-2.06.94zm-11 1L8.5 8.5l.94-2.06 2.06-.94-2.06-.94L8.5 2.5l-.94 2.06-2.06.94zm10 10l.94 2.06.94-2.06 2.06-.94-2.06-.94-.94-2.06-.94 2.06-2.06.94z\"/><path d=\"M17.41 7.96l-1.37-1.37c-.4-.4-.92-.59-1.43-.59-.52 0-1.04.2-1.43.59L10.3 9.45l-7.72 7.72c-.78.78-.78 2.05 0 2.83L4 21.41c.39.39.9.59 1.41.59.51 0 1.02-.2 1.41-.59l7.78-7.78 2.81-2.81c.8-.78.8-2.07 0-2.86zM5.41 20L4 18.59l7.72-7.72 1.47 1.35L5.41 20z\"/>\n",
              "  </svg>\n",
              "      </button>\n",
              "      \n",
              "  <style>\n",
              "    .colab-df-container {\n",
              "      display:flex;\n",
              "      flex-wrap:wrap;\n",
              "      gap: 12px;\n",
              "    }\n",
              "\n",
              "    .colab-df-convert {\n",
              "      background-color: #E8F0FE;\n",
              "      border: none;\n",
              "      border-radius: 50%;\n",
              "      cursor: pointer;\n",
              "      display: none;\n",
              "      fill: #1967D2;\n",
              "      height: 32px;\n",
              "      padding: 0 0 0 0;\n",
              "      width: 32px;\n",
              "    }\n",
              "\n",
              "    .colab-df-convert:hover {\n",
              "      background-color: #E2EBFA;\n",
              "      box-shadow: 0px 1px 2px rgba(60, 64, 67, 0.3), 0px 1px 3px 1px rgba(60, 64, 67, 0.15);\n",
              "      fill: #174EA6;\n",
              "    }\n",
              "\n",
              "    [theme=dark] .colab-df-convert {\n",
              "      background-color: #3B4455;\n",
              "      fill: #D2E3FC;\n",
              "    }\n",
              "\n",
              "    [theme=dark] .colab-df-convert:hover {\n",
              "      background-color: #434B5C;\n",
              "      box-shadow: 0px 1px 3px 1px rgba(0, 0, 0, 0.15);\n",
              "      filter: drop-shadow(0px 1px 2px rgba(0, 0, 0, 0.3));\n",
              "      fill: #FFFFFF;\n",
              "    }\n",
              "  </style>\n",
              "\n",
              "      <script>\n",
              "        const buttonEl =\n",
              "          document.querySelector('#df-94d5dacb-7f5d-422b-9863-e6f51abb949e button.colab-df-convert');\n",
              "        buttonEl.style.display =\n",
              "          google.colab.kernel.accessAllowed ? 'block' : 'none';\n",
              "\n",
              "        async function convertToInteractive(key) {\n",
              "          const element = document.querySelector('#df-94d5dacb-7f5d-422b-9863-e6f51abb949e');\n",
              "          const dataTable =\n",
              "            await google.colab.kernel.invokeFunction('convertToInteractive',\n",
              "                                                     [key], {});\n",
              "          if (!dataTable) return;\n",
              "\n",
              "          const docLinkHtml = 'Like what you see? Visit the ' +\n",
              "            '<a target=\"_blank\" href=https://colab.research.google.com/notebooks/data_table.ipynb>data table notebook</a>'\n",
              "            + ' to learn more about interactive tables.';\n",
              "          element.innerHTML = '';\n",
              "          dataTable['output_type'] = 'display_data';\n",
              "          await google.colab.output.renderOutput(dataTable, element);\n",
              "          const docLink = document.createElement('div');\n",
              "          docLink.innerHTML = docLinkHtml;\n",
              "          element.appendChild(docLink);\n",
              "        }\n",
              "      </script>\n",
              "    </div>\n",
              "  </div>\n",
              "  "
            ]
          },
          "metadata": {},
          "execution_count": 445
        }
      ]
    },
    {
      "cell_type": "markdown",
      "source": [
        "A coefficient of 0.82727 indicates a strong positive correlation."
      ],
      "metadata": {
        "id": "f_JNUmfXgwvI"
      }
    },
    {
      "cell_type": "code",
      "source": [],
      "metadata": {
        "id": "h_7P8o6c1JV4"
      },
      "execution_count": null,
      "outputs": []
    }
  ]
}